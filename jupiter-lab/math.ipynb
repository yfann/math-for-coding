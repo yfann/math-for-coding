{
 "cells": [
  {
   "cell_type": "code",
   "execution_count": 4,
   "id": "d7837e3b-2dbd-44c1-8873-4adb416b2a94",
   "metadata": {},
   "outputs": [
    {
     "name": "stdout",
     "output_type": "stream",
     "text": [
      "0.8414709848078965\n",
      "1.0\n"
     ]
    }
   ],
   "source": [
    "from math import sin\n",
    "from math import asin\n",
    "print(sin(1))\n",
    "print(asin(0.8414709848078965))"
   ]
  },
  {
   "cell_type": "code",
   "execution_count": 1,
   "id": "997966ce-be08-4e48-b611-7187800664c4",
   "metadata": {},
   "outputs": [
    {
     "name": "stdout",
     "output_type": "stream",
     "text": [
      "1.6197751905438615\n"
     ]
    }
   ],
   "source": [
    "from math import tan\n",
    "print(tan(45))"
   ]
  },
  {
   "cell_type": "code",
   "execution_count": 5,
   "id": "d240035e-d49a-4cbd-8cd2-b3d771e1549c",
   "metadata": {},
   "outputs": [
    {
     "name": "stdout",
     "output_type": "stream",
     "text": [
      "0.8320502943378437\n"
     ]
    }
   ],
   "source": [
    "from math import sqrt\n",
    "print(3/sqrt(13))"
   ]
  }
 ],
 "metadata": {
  "kernelspec": {
   "display_name": "Python 3 (ipykernel)",
   "language": "python",
   "name": "python3"
  },
  "language_info": {
   "codemirror_mode": {
    "name": "ipython",
    "version": 3
   },
   "file_extension": ".py",
   "mimetype": "text/x-python",
   "name": "python",
   "nbconvert_exporter": "python",
   "pygments_lexer": "ipython3",
   "version": "3.9.9"
  }
 },
 "nbformat": 4,
 "nbformat_minor": 5
}
